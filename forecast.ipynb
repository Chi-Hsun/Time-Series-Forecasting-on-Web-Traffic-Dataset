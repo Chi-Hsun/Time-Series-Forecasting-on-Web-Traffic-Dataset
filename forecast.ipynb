{
 "cells": [
  {
   "cell_type": "code",
   "execution_count": null,
   "metadata": {},
   "outputs": [],
   "source": [
    "# Import libraries\n",
    "import pandas as pd\n",
    "# pd.plotting.register_matplotlib_converters()\n",
    "import numpy as np\n",
    "import matplotlib.pyplot as plt\n",
    "plt.style.use('fivethirtyeight')\n",
    "import seaborn as sns\n",
    "import re\n",
    "from datetime import datetime\n",
    "from sklearn.ensemble import IsolationForest\n",
    "from statsmodels.graphics import tsaplots\n",
    "import statsmodels.api as sm\n",
    "from statsmodels.tsa.stattools import adfuller\n",
    "from statsmodels.tsa.arima_model import ARMA\n",
    "from statsmodels.tsa.statespace.sarimax import SARIMAX\n",
    "from statsmodels.tsa.api import ExponentialSmoothing, SimpleExpSmoothing, Holt\n",
    "from fbprophet import Prophet\n",
    "from pylab import rcParams\n",
    "import calendar"
   ]
  },
  {
   "cell_type": "code",
   "execution_count": null,
   "metadata": {},
   "outputs": [],
   "source": [
    "# Read data\n",
    "df = pd.read_csv('train_1.csv/train_1.csv')\n",
    "df.head()"
   ]
  },
  {
   "cell_type": "code",
   "execution_count": null,
   "metadata": {},
   "outputs": [],
   "source": [
    "# Fill missing values\n",
    "df = df.fillna(0)"
   ]
  },
  {
   "cell_type": "code",
   "execution_count": null,
   "metadata": {},
   "outputs": [],
   "source": [
    "# Reshaping the dataframe\n",
    "df_reshaped = pd.melt(df,id_vars=['Page'],var_name='Date',value_name='Views')\n",
    "df_reshaped.head()"
   ]
  },
  {
   "cell_type": "code",
   "execution_count": null,
   "metadata": {},
   "outputs": [],
   "source": [
    "# Setting 'Date' column as the index \n",
    "df_reshaped['Date'] = pd.to_datetime(df_reshaped['Date']) \n",
    "df_reshaped = df_reshaped.set_index('Date')"
   ]
  },
  {
   "cell_type": "markdown",
   "metadata": {},
   "source": [
    "## Time series analysis"
   ]
  },
  {
   "cell_type": "code",
   "execution_count": null,
   "metadata": {},
   "outputs": [],
   "source": [
    "# Average number of views per day\n",
    "temp = df_reshaped.groupby('Date')['Views'].mean()\n",
    "plt.figure(figsize=(15,4))\n",
    "plt.xlabel('Date')\n",
    "plt.ylabel('Avg views')\n",
    "plt.title('Average number of views per day')\n",
    "plt.plot(temp,label='Views')\n",
    "plt.legend()\n",
    "plt.show()"
   ]
  },
  {
   "cell_type": "code",
   "execution_count": null,
   "metadata": {},
   "outputs": [],
   "source": [
    "# Average number of views per month\n",
    "month_index = df_reshaped.index.month\n",
    "views_by_month = df_reshaped.groupby(month_index).mean()\n",
    "months=['January','February','March','April','May','June','July','August','September','October','November','December']\n",
    "ax = views_by_month.plot()\n",
    "start, end = ax.get_xlim()\n",
    "plt.xticks(np.arange(start+0.5, end+0.5, 1.0))\n",
    "ax.set_xticklabels(months,rotation=75)\n",
    "ax.set_xlabel('Month')\n",
    "ax.set_ylabel('Average views')\n",
    "ax.set_title('Average number of views per month')\n",
    "plt.show()"
   ]
  },
  {
   "cell_type": "code",
   "execution_count": null,
   "metadata": {},
   "outputs": [],
   "source": [
    "weekday_index = df_reshaped.index.weekday_name\n",
    "views_by_weekdays = df_reshaped.groupby(weekday_index).sum()\n",
    "\n",
    "ax = views_by_weekdays.plot()\n",
    "#start, end = ax.get_xlim()\n",
    "#plt.xticks(np.arange(start+0.5, end+0.5, 1.0))\n",
    "#ax.set_xticklabels(months,rotation=75)\n",
    "#ax.set_xlabel('Month')\n",
    "ax.set_ylabel('Total views')\n",
    "plt.show()"
   ]
  },
  {
   "cell_type": "code",
   "execution_count": null,
   "metadata": {},
   "outputs": [],
   "source": [
    "def detect_lang(page):\n",
    "    text = page.split('.wikipedia')\n",
    "    if re.search('[a-z][a-z]',text[0][-2:]):\n",
    "        return text[0][-2:]\n",
    "    else: \n",
    "        return 'none'\n",
    "temp1 = df_reshaped  \n",
    "temp1['Wikipedia_page'] = temp1.Page.apply(detect_lang)\n",
    "\n",
    "def lang_code(code):\n",
    "    if code == 'zh':\n",
    "        return 'Chinese'\n",
    "    elif code == 'fr':\n",
    "        return 'French'\n",
    "    elif code == 'en':\n",
    "        return 'English'\n",
    "    elif code == 'ru':\n",
    "        return 'Russian'\n",
    "    elif code == 'de':\n",
    "        return 'German'\n",
    "    elif code == 'ja':\n",
    "        return 'Japanese'\n",
    "    elif code == 'es':\n",
    "        return 'Spanish'\n",
    "    else:\n",
    "        return 'None'\n",
    "    \n",
    "temp1['Page_language'] = temp1.Wikipedia_page.apply(lang_code)"
   ]
  },
  {
   "cell_type": "code",
   "execution_count": null,
   "metadata": {},
   "outputs": [],
   "source": [
    "# Total number of views based on language of Wikipedia webpage\n",
    "fig,ax = plt.subplots(figsize=(15,6))\n",
    "lang_df = temp1.groupby('Page_language')['Views'].sum().reset_index()\n",
    "lang_df.head()\n",
    "# lang_df = lang_df[lang_df['Page_language']!='None']\n",
    "# # lang_df['Views'] = round(lang_df['Views']/1000000,0)\n",
    "\n",
    "# bar_graph = lang_df.plot.bar(x='Page_language',y='Views',rot=30,ax=ax)\n",
    "# bar_graph.set_ylabel('Total views (in millions)')\n",
    "# bar_graph.set_title('Total number of views based on language of webpage')\n",
    "\n",
    "# for p in ax.patches:\n",
    "#     ax.annotate(str(p.get_height()), (p.get_x()+0.1, p.get_height()+500))\n",
    "# ax.legend()\n",
    "# plt.show()"
   ]
  },
  {
   "cell_type": "code",
   "execution_count": null,
   "metadata": {},
   "outputs": [],
   "source": [
    "df_reshaped['Dayofweek'] = df_reshaped.Date.dt.dayofweek\n",
    "\n",
    "def find_day(day):\n",
    "    if day == 0:\n",
    "        return 'Monday'\n",
    "    elif day == 1:\n",
    "        return 'Tuesday'\n",
    "    elif day == 2:\n",
    "        return 'Wednesday'\n",
    "    elif day == 3:\n",
    "        return 'Thursday'\n",
    "    elif day == 4:\n",
    "        return 'Friday'\n",
    "    elif day == 5:\n",
    "        return 'Saturday'\n",
    "    else:\n",
    "        return 'Sunday'\n",
    "    \n",
    "df_reshaped['Dayofweek'] = df_reshaped.Dayofweek.apply(find_day)"
   ]
  },
  {
   "cell_type": "code",
   "execution_count": null,
   "metadata": {},
   "outputs": [],
   "source": [
    "day = df_reshaped.groupby('Dayofweek')['Views'].sum()\n",
    "plt.figure(figsize=(15,4))\n",
    "plt.xlabel('Day of week')\n",
    "plt.ylabel('Total views')\n",
    "plt.plot(day)\n",
    "plt.show()"
   ]
  },
  {
   "cell_type": "code",
   "execution_count": null,
   "metadata": {},
   "outputs": [],
   "source": [
    "top_pages = df_reshaped.groupby('Page')['Views'].sum().reset_index()\n",
    "top_pages.nlargest(5,'Views')"
   ]
  },
  {
   "cell_type": "code",
   "execution_count": null,
   "metadata": {},
   "outputs": [],
   "source": [
    "top5_pages_df = df_reshaped[df_reshaped['Page'].isin(['Main_Page_en.wikipedia.org_all-access_all-agents','Main_Page_en.wikipedia.org_desktop_all-agents','Main_Page_en.wikipedia.org_mobile-web_all-agents','Wikipedia:Hauptseite_de.wikipedia.org_all-access_all-agents','Special:Search_en.wikipedia.org_all-access_all-agents'])]"
   ]
  },
  {
   "cell_type": "code",
   "execution_count": null,
   "metadata": {},
   "outputs": [],
   "source": [
    "del pd"
   ]
  },
  {
   "cell_type": "code",
   "execution_count": null,
   "metadata": {},
   "outputs": [],
   "source": [
    "for i in list(top5_pages_df.Page.unique())[:5]:\n",
    "    ax = top5_pages_df.loc[top5_pages_df.Page == i,:].plot(label=i)\n",
    "ax.set_ylabel('Views')\n",
    "plt.legend(loc='upper left')\n",
    "plt.show()"
   ]
  },
  {
   "cell_type": "code",
   "execution_count": null,
   "metadata": {},
   "outputs": [],
   "source": [
    "top5_pages_df.head()"
   ]
  },
  {
   "cell_type": "code",
   "execution_count": null,
   "metadata": {},
   "outputs": [],
   "source": [
    "table = pd.pivot_table(top5_pages_df,values='Views',index=['Date'],columns=['Page'])"
   ]
  },
  {
   "cell_type": "code",
   "execution_count": null,
   "metadata": {},
   "outputs": [],
   "source": [
    "corr_matrix = table.corr(method='pearson')\n",
    "sns.clustermap(corr_matrix)"
   ]
  },
  {
   "cell_type": "code",
   "execution_count": null,
   "metadata": {},
   "outputs": [],
   "source": [
    "top_page_df = df_reshaped[df_reshaped.Page == 'Main_Page_en.wikipedia.org_all-access_all-agents']\n",
    "top_page_df = top_page_df[['Views']]\n",
    "top_page_df['Views'] = top_page_df['Views'].div(1000000).round(2)\n",
    "top_page_df.head()"
   ]
  },
  {
   "cell_type": "code",
   "execution_count": null,
   "metadata": {},
   "outputs": [],
   "source": [
    "ax1 = top_page_df.boxplot()"
   ]
  },
  {
   "cell_type": "code",
   "execution_count": null,
   "metadata": {},
   "outputs": [],
   "source": [
    "ax2 = top_page_df.plot(kind='density', linewidth=2)\n",
    "ax2.set_xlabel('Views')\n",
    "plt.show()"
   ]
  },
  {
   "cell_type": "markdown",
   "metadata": {},
   "source": [
    "## Anomaly detection using Isolation Forest"
   ]
  },
  {
   "cell_type": "code",
   "execution_count": null,
   "metadata": {},
   "outputs": [],
   "source": [
    "isolation_forest_model = IsolationForest(contamination=0.08)\n",
    "isolation_forest_model.fit(top_page_df)\n",
    "top_page_df['anomaly'] = isolation_forest_model.predict(top_page_df)"
   ]
  },
  {
   "cell_type": "code",
   "execution_count": null,
   "metadata": {},
   "outputs": [],
   "source": [
    "anomaly_df.head()"
   ]
  },
  {
   "cell_type": "code",
   "execution_count": null,
   "metadata": {},
   "outputs": [],
   "source": [
    "anomaly_df.reset_index().info()"
   ]
  },
  {
   "cell_type": "code",
   "execution_count": null,
   "metadata": {},
   "outputs": [],
   "source": [
    "fig, ax = plt.subplots(figsize=(11,9))\n",
    "anomaly_df = top_page_df.loc[top_page_df['anomaly'] == -1].copy()\n",
    "ax.plot(top_page_df.index,top_page_df['Views'],color='blue', label = 'Normal')\n",
    "plt.scatter(anomaly_df.index,anomaly_df['Views'],color='red',s=100,label = 'Anomaly')\n",
    "plt.legend()\n",
    "plt.show()"
   ]
  },
  {
   "cell_type": "code",
   "execution_count": null,
   "metadata": {},
   "outputs": [],
   "source": [
    "top_page_df = top_page_df[top_page_df['anomaly']==1]\n",
    "top_page_df.drop(columns=['anomaly'],inplace=True)"
   ]
  },
  {
   "cell_type": "code",
   "execution_count": null,
   "metadata": {},
   "outputs": [],
   "source": [
    "plt.figure(figsize=(11,9))\n",
    "plt.plot(top_page_df,label='Views')\n",
    "plt.title('Data after removing anomalies')\n",
    "plt.show()"
   ]
  },
  {
   "cell_type": "code",
   "execution_count": null,
   "metadata": {},
   "outputs": [],
   "source": [
    "fig = tsaplots.plot_acf(top_page_df['Views'], lags=60)\n",
    "plt.show()"
   ]
  },
  {
   "cell_type": "code",
   "execution_count": null,
   "metadata": {},
   "outputs": [],
   "source": [
    "rcParams['figure.figsize'] = 11,9\n",
    "ts_decomposition = sm.tsa.seasonal_decompose(top_page_df['Views'],freq = 30)\n",
    "figure = ts_decomposition.plot()\n",
    "plt.show()"
   ]
  },
  {
   "cell_type": "markdown",
   "metadata": {},
   "source": [
    "## Augmented Dicky-Fuller test"
   ]
  },
  {
   "cell_type": "code",
   "execution_count": null,
   "metadata": {},
   "outputs": [],
   "source": [
    "test = adfuller(top_page_df['Views'])\n",
    "print(test)"
   ]
  },
  {
   "cell_type": "markdown",
   "metadata": {},
   "source": [
    " 0th element is the test statistic. Since the value is approximately -3, we can say that the data is more likely to be stationary.\n",
    " 1st element indicates the p-value. Since the p-value is < 0.05, we can reject null hypothesis."
   ]
  },
  {
   "cell_type": "code",
   "execution_count": null,
   "metadata": {},
   "outputs": [],
   "source": [
    "ax = top_page_df.plot()\n",
    "plt.show()"
   ]
  },
  {
   "cell_type": "code",
   "execution_count": null,
   "metadata": {},
   "outputs": [],
   "source": [
    "top_page_filtered = top_page_df[['Views']]\n",
    "stationary_df = top_page_filtered.diff().dropna()\n",
    "stationary_df.head()"
   ]
  },
  {
   "cell_type": "code",
   "execution_count": null,
   "metadata": {},
   "outputs": [],
   "source": [
    "ax = stationary_df.plot()\n",
    "plt.show()"
   ]
  },
  {
   "cell_type": "code",
   "execution_count": null,
   "metadata": {},
   "outputs": [],
   "source": [
    "test2 = adfuller(stationary_df['Views'])\n",
    "print(test2)"
   ]
  },
  {
   "cell_type": "code",
   "execution_count": null,
   "metadata": {},
   "outputs": [],
   "source": [
    "fig = tsaplots.plot_acf(stationary_df['Views'], lags=14)\n",
    "plt.show()"
   ]
  },
  {
   "cell_type": "markdown",
   "metadata": {},
   "source": [
    "## Modelling"
   ]
  },
  {
   "cell_type": "code",
   "execution_count": null,
   "metadata": {},
   "outputs": [],
   "source": [
    "train = top_page_filtered[:'2016-09']\n",
    "test = top_page_filtered['2016-10':]"
   ]
  },
  {
   "cell_type": "code",
   "execution_count": null,
   "metadata": {},
   "outputs": [],
   "source": [
    "fig = tsaplots.plot_acf(train['Views'], lags=30)\n",
    "plt.show()"
   ]
  },
  {
   "cell_type": "code",
   "execution_count": null,
   "metadata": {},
   "outputs": [],
   "source": [
    "fig = tsaplots.plot_pacf(train['Views'], lags=30)\n",
    "plt.show()"
   ]
  },
  {
   "cell_type": "code",
   "execution_count": null,
   "metadata": {},
   "outputs": [],
   "source": [
    "aic_bic_values = []\n",
    "for p in range(7):\n",
    "    for q in range(7):\n",
    "        try:\n",
    "            model = SARIMAX(train, order=(p,0,q))\n",
    "            result = model.fit()\n",
    "            aic_bic_values.append((p,q,result.aic,result.bic))\n",
    "            print(p, q, result.aic, result.bic)\n",
    "        except:\n",
    "            print(p,q,None,None)\n"
   ]
  },
  {
   "cell_type": "code",
   "execution_count": null,
   "metadata": {},
   "outputs": [],
   "source": [
    "aic_bic_df = pd.DataFrame(aic_bic_values,columns=['p','q','aic','bic'])\n",
    "print(aic_bic_df.sort_values('aic'))"
   ]
  },
  {
   "cell_type": "markdown",
   "metadata": {},
   "source": [
    "## Fitting ARMA model"
   ]
  },
  {
   "cell_type": "code",
   "execution_count": null,
   "metadata": {},
   "outputs": [],
   "source": [
    "model = SARIMAX(train,order=(6,0,2))\n",
    "result = model.fit()"
   ]
  },
  {
   "cell_type": "code",
   "execution_count": null,
   "metadata": {},
   "outputs": [],
   "source": [
    "forecast = result.get_prediction(start=-30)\n",
    "forecast_mean = forecast.predicted_mean"
   ]
  },
  {
   "cell_type": "code",
   "execution_count": null,
   "metadata": {},
   "outputs": [],
   "source": [
    "forecast_mean.head()"
   ]
  },
  {
   "cell_type": "code",
   "execution_count": null,
   "metadata": {},
   "outputs": [],
   "source": [
    "confidence_interval = forecast.conf_int()\n",
    "confidence_interval.head()"
   ]
  },
  {
   "cell_type": "markdown",
   "metadata": {},
   "source": [
    "## Predicting the number of views for the last 30 days using ARMA model"
   ]
  },
  {
   "cell_type": "code",
   "execution_count": null,
   "metadata": {
    "scrolled": true
   },
   "outputs": [],
   "source": [
    "fig,ax=plt.subplots()\n",
    "train[-30:].rename(columns={'Views':'actual value'}).plot(ax=ax)\n",
    "forecast_mean.plot(ax=ax,label='prediction')\n",
    "plt.fill_between(confidence_interval.index, \\\n",
    "                confidence_interval['lower Views'], \\\n",
    "                confidence_interval['upper Views'], \\\n",
    "                color='pink', alpha=0.5)\n",
    "plt.legend()\n",
    "plt.show()"
   ]
  },
  {
   "cell_type": "markdown",
   "metadata": {},
   "source": [
    "### Forecasting using ARMA model"
   ]
  },
  {
   "cell_type": "code",
   "execution_count": null,
   "metadata": {},
   "outputs": [],
   "source": [
    "forecast_values = result.get_forecast(steps=test.shape[0])\n",
    "forecast_values_mean = forecast_values.predicted_mean\n",
    "conf_interval = forecast_values.conf_int()"
   ]
  },
  {
   "cell_type": "code",
   "execution_count": null,
   "metadata": {},
   "outputs": [],
   "source": [
    "fig,ax=plt.subplots()\n",
    "top_page_filtered.rename(columns={'Views':'Actual value'}).plot(ax=ax)\n",
    "forecast_values_mean.plot(ax=ax,label='Forecast')\n",
    "plt.fill_between(conf_interval.index, \\\n",
    "                conf_interval['lower Views'], \\\n",
    "                conf_interval['upper Views'], \\\n",
    "                color='pink', alpha=0.5)\n",
    "plt.title('Forecasted number of views for the next 30 days')\n",
    "plt.legend()\n",
    "plt.show()"
   ]
  },
  {
   "cell_type": "code",
   "execution_count": null,
   "metadata": {},
   "outputs": [],
   "source": [
    "print('RMSE: '+str(np.sqrt(np.mean(np.square(forecast_values_mean.values - test.Views.values)))))"
   ]
  },
  {
   "cell_type": "markdown",
   "metadata": {},
   "source": [
    "## ARIMA model"
   ]
  },
  {
   "cell_type": "code",
   "execution_count": null,
   "metadata": {},
   "outputs": [],
   "source": [
    "arima_aic_bic = []\n",
    "for p in range(7):\n",
    "    for q in range(7):\n",
    "        try:\n",
    "            arima_model = SARIMAX(train, order=(p,1,q))\n",
    "            arima_result = arima_model.fit()\n",
    "            arima_aic_bic.append((p,q,arima_result.aic,arima_result.bic))\n",
    "        except:\n",
    "            continue\n",
    "\n",
    "arima_aic_bic_df = pd.DataFrame(arima_aic_bic,columns=['p','q','aic','bic'])\n",
    "print(arima_aic_bic_df.sort_values('aic'))"
   ]
  },
  {
   "cell_type": "code",
   "execution_count": null,
   "metadata": {},
   "outputs": [],
   "source": [
    "arima_model = SARIMAX(train,order=(5,1,6))\n",
    "arima_result = arima_model.fit()\n",
    "arima_forecast_mean = arima_result.get_prediction(steps=-30).predicted_mean"
   ]
  },
  {
   "cell_type": "code",
   "execution_count": null,
   "metadata": {},
   "outputs": [],
   "source": [
    "arima_result.plot_diagnostics()\n",
    "plt.show()"
   ]
  },
  {
   "cell_type": "code",
   "execution_count": null,
   "metadata": {},
   "outputs": [],
   "source": [
    "arima_result.summary()"
   ]
  },
  {
   "cell_type": "code",
   "execution_count": null,
   "metadata": {},
   "outputs": [],
   "source": [
    "fig,ax=plt.subplots()\n",
    "train[-30:].rename(columns={'Views':'actual value'}).plot(ax=ax)\n",
    "arima_forecast_mean[-30:].plot(ax=ax,label='prediction')\n",
    "plt.legend()\n",
    "plt.show()"
   ]
  },
  {
   "cell_type": "markdown",
   "metadata": {},
   "source": [
    "### Forecasting using ARIMA model"
   ]
  },
  {
   "cell_type": "code",
   "execution_count": null,
   "metadata": {},
   "outputs": [],
   "source": [
    "arima_forecast_values = arima_result.get_forecast(steps=test.shape[0])\n",
    "arima_forecast_mean = arima_forecast_values.predicted_mean\n",
    "arima_conf_interval = arima_forecast_values.conf_int()"
   ]
  },
  {
   "cell_type": "code",
   "execution_count": null,
   "metadata": {},
   "outputs": [],
   "source": [
    "fig,ax=plt.subplots()\n",
    "top_page_filtered.rename(columns={'Views':'Actual value'}).plot(ax=ax)\n",
    "arima_forecast_mean.plot(ax=ax,label='Forecast')\n",
    "plt.fill_between(arima_conf_interval.index, \\\n",
    "                arima_conf_interval['lower Views'], \\\n",
    "                arima_conf_interval['upper Views'], \\\n",
    "                color='pink', alpha=0.5)\n",
    "plt.title('Forecasted number of views for the next 30 days')\n",
    "plt.legend()\n",
    "plt.show()"
   ]
  },
  {
   "cell_type": "code",
   "execution_count": null,
   "metadata": {},
   "outputs": [],
   "source": [
    "print('RMSE: '+str(np.sqrt(np.mean(np.square(arima_forecast_mean.values - test.Views.values)))))"
   ]
  },
  {
   "cell_type": "markdown",
   "metadata": {},
   "source": [
    "## Exponential smoothing model"
   ]
  },
  {
   "cell_type": "code",
   "execution_count": null,
   "metadata": {},
   "outputs": [],
   "source": [
    "exp_smoothing_model = SimpleExpSmoothing(train)\n",
    "exp_smoothing_result = exp_smoothing_model.fit(smoothing_level=0.5,optimized=True)\n",
    "exp_smoothing_prediction = exp_smoothing_result.predict(start=train[-30:-29].index[0],end=train[-1:].index[0])\n",
    "plt.plot(train[-30:], label='Train')\n",
    "plt.plot(exp_smoothing_prediction, label='Prediction')\n",
    "plt.legend(loc='best')\n",
    "plt.show()"
   ]
  },
  {
   "cell_type": "markdown",
   "metadata": {},
   "source": [
    "### Forecasting using Exponential Smoothing model"
   ]
  },
  {
   "cell_type": "code",
   "execution_count": null,
   "metadata": {},
   "outputs": [],
   "source": [
    "exp_smoothing_forecast = exp_smoothing_result.forecast(test.shape[0])\n",
    "plt.plot(top_page_filtered)\n",
    "plt.plot(exp_smoothing_forecast, label='Forecast')\n",
    "plt.legend(loc='best')\n",
    "plt.show()"
   ]
  },
  {
   "cell_type": "code",
   "execution_count": null,
   "metadata": {},
   "outputs": [],
   "source": [
    "print('RMSE: '+str(np.sqrt(np.mean(np.square(exp_smoothing_forecast.values - test.Views.values)))))"
   ]
  },
  {
   "cell_type": "markdown",
   "metadata": {},
   "source": [
    "## Prophet"
   ]
  },
  {
   "cell_type": "code",
   "execution_count": null,
   "metadata": {},
   "outputs": [],
   "source": [
    "ptrain = b[:'2016-09']\n",
    "ptest = b['2016-10':]\n",
    "prophet_model = Prophet()\n",
    "prophet_result = prophet_model.fit(ptrain.reset_index().rename(columns={'Date':'ds','Views':'y'}))"
   ]
  },
  {
   "cell_type": "code",
   "execution_count": null,
   "metadata": {},
   "outputs": [],
   "source": [
    "future = prophet_model.make_future_dataframe(periods=ptest.shape[0])\n",
    "forecast = prophet_model.predict(future)"
   ]
  },
  {
   "cell_type": "code",
   "execution_count": null,
   "metadata": {},
   "outputs": [],
   "source": [
    "train.shape[0]"
   ]
  },
  {
   "cell_type": "code",
   "execution_count": null,
   "metadata": {},
   "outputs": [],
   "source": [
    "prophet_forecast = forecast[['ds','yhat_lower','yhat_upper','yhat']][-ptest.shape[0]:]\n",
    "plt.plot(prophet_forecast['ds'],prophet_forecast['yhat'],label='forecast')\n",
    "plt.plot(b, label='Actual data')\n",
    "# plt.fill_between(prophet_forecast['ds'],prophet_forecast['yhat_lower'],prophet_forecast['yhat_upper'])\n",
    "plt.legend(loc='best')\n",
    "plt.show()"
   ]
  },
  {
   "cell_type": "code",
   "execution_count": null,
   "metadata": {},
   "outputs": [],
   "source": [
    "fig = prophet_model.plot_components(forecast)"
   ]
  },
  {
   "cell_type": "code",
   "execution_count": null,
   "metadata": {},
   "outputs": [],
   "source": [
    "fig1 = prophet_model.plot(forecast)"
   ]
  }
 ],
 "metadata": {
  "kernelspec": {
   "display_name": "Python 3",
   "language": "python",
   "name": "python3"
  },
  "language_info": {
   "codemirror_mode": {
    "name": "ipython",
    "version": 3
   },
   "file_extension": ".py",
   "mimetype": "text/x-python",
   "name": "python",
   "nbconvert_exporter": "python",
   "pygments_lexer": "ipython3",
   "version": "3.7.1"
  }
 },
 "nbformat": 4,
 "nbformat_minor": 2
}
