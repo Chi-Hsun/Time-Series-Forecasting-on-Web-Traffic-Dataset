{
 "cells": [
  {
   "cell_type": "code",
   "execution_count": 2,
   "metadata": {},
   "outputs": [],
   "source": [
    "# Import libraries\n",
    "import pandas as pd\n",
    "import tensorflow as tf\n",
    "from tensorflow import keras\n",
    "import numpy as np\n",
    "import matplotlib.pyplot as plt\n",
    "plt.style.use('fivethirtyeight')\n",
    "from datetime import datetime\n",
    "from sklearn.ensemble import IsolationForest\n",
    "from statsmodels.graphics import tsaplots\n",
    "import statsmodels.api as sm\n",
    "from pylab import rcParams\n",
    "import warnings \n",
    "warnings.filterwarnings(\"ignore\")"
   ]
  },
  {
   "cell_type": "code",
   "execution_count": 3,
   "metadata": {},
   "outputs": [],
   "source": [
    "# Read data\n",
    "df = pd.read_csv('train_1.csv')\n",
    "\n",
    "# Fill missing values\n",
    "df = df.fillna(0)"
   ]
  },
  {
   "cell_type": "code",
   "execution_count": 4,
   "metadata": {},
   "outputs": [],
   "source": [
    "# Reshaping the dataframe\n",
    "df_reshaped = pd.melt(df,id_vars=['Page'],var_name='Date',value_name='Views')"
   ]
  },
  {
   "cell_type": "code",
   "execution_count": 5,
   "metadata": {},
   "outputs": [],
   "source": [
    "# Setting 'Date' column as the index \n",
    "df_reshaped['Date'] = pd.DatetimeIndex(df_reshaped['Date'])\n",
    "df_reshaped = df_reshaped.set_index('Date')"
   ]
  },
  {
   "cell_type": "code",
   "execution_count": 6,
   "metadata": {},
   "outputs": [
    {
     "data": {
      "text/html": [
       "<div>\n",
       "<style scoped>\n",
       "    .dataframe tbody tr th:only-of-type {\n",
       "        vertical-align: middle;\n",
       "    }\n",
       "\n",
       "    .dataframe tbody tr th {\n",
       "        vertical-align: top;\n",
       "    }\n",
       "\n",
       "    .dataframe thead th {\n",
       "        text-align: right;\n",
       "    }\n",
       "</style>\n",
       "<table border=\"1\" class=\"dataframe\">\n",
       "  <thead>\n",
       "    <tr style=\"text-align: right;\">\n",
       "      <th></th>\n",
       "      <th>Views</th>\n",
       "    </tr>\n",
       "    <tr>\n",
       "      <th>Date</th>\n",
       "      <th></th>\n",
       "    </tr>\n",
       "  </thead>\n",
       "  <tbody>\n",
       "    <tr>\n",
       "      <th>2015-07-01</th>\n",
       "      <td>20.38</td>\n",
       "    </tr>\n",
       "    <tr>\n",
       "      <th>2015-07-02</th>\n",
       "      <td>20.75</td>\n",
       "    </tr>\n",
       "    <tr>\n",
       "      <th>2015-07-03</th>\n",
       "      <td>19.57</td>\n",
       "    </tr>\n",
       "    <tr>\n",
       "      <th>2015-07-04</th>\n",
       "      <td>20.44</td>\n",
       "    </tr>\n",
       "    <tr>\n",
       "      <th>2015-07-05</th>\n",
       "      <td>20.77</td>\n",
       "    </tr>\n",
       "  </tbody>\n",
       "</table>\n",
       "</div>"
      ],
      "text/plain": [
       "            Views\n",
       "Date             \n",
       "2015-07-01  20.38\n",
       "2015-07-02  20.75\n",
       "2015-07-03  19.57\n",
       "2015-07-04  20.44\n",
       "2015-07-05  20.77"
      ]
     },
     "execution_count": 6,
     "metadata": {},
     "output_type": "execute_result"
    }
   ],
   "source": [
    "# Time-series of page with maximum views\n",
    "top_pages = df_reshaped.groupby('Page')['Views'].sum().reset_index()\n",
    "top_pages_list = top_pages.nlargest(5,'Views')['Page'].tolist()\n",
    "\n",
    "top_page_df = df_reshaped[df_reshaped.Page == top_pages_list[0]]\n",
    "top_page_df = top_page_df[['Views']]\n",
    "top_page_df['Views'] = top_page_df['Views'].div(1000000).round(2)\n",
    "top_page_df.head()"
   ]
  },
  {
   "cell_type": "markdown",
   "metadata": {},
   "source": [
    "## Anomaly detection"
   ]
  },
  {
   "cell_type": "code",
   "execution_count": 7,
   "metadata": {},
   "outputs": [],
   "source": [
    "# Detecting anomalies in the data, removing anomalies and filling missing values with rolling mean\n",
    "isolation_forest_model = IsolationForest(contamination=0.08)\n",
    "isolation_forest_model.fit(top_page_df)\n",
    "top_page_df['anomaly'] = isolation_forest_model.predict(top_page_df)\n",
    "\n",
    "top_page_df['new_views'] = top_page_df.apply(lambda row: row.Views if row.anomaly == 1 else None, axis='columns')\n",
    "top_page_df = top_page_df.assign(rolling_mean=top_page_df.new_views.fillna(top_page_df.new_views.rolling(30,min_periods=1).mean()))\n",
    "top_page_df = top_page_df.drop(columns=['Views','anomaly','new_views']).rename(columns={'rolling_mean':'Views'})"
   ]
  },
  {
   "cell_type": "code",
   "execution_count": 8,
   "metadata": {},
   "outputs": [],
   "source": [
    "# Convert dataset into suitable form to train the model\n",
    "train = top_page_df[:'2016-09']\n",
    "test = top_page_df['2016-10':]\n",
    "\n",
    "def transform_dataset(X, y, time_steps=1):\n",
    "    Xs, ys = [], []\n",
    "    for i in range(len(X) - time_steps):\n",
    "        v = X.iloc[i:(i + time_steps)].values\n",
    "        Xs.append(v)\n",
    "        ys.append(y.iloc[i + time_steps])\n",
    "    return np.array(Xs), np.array(ys)\n",
    "\n",
    "time_steps = 7\n",
    "\n",
    "X_train, y_train = transform_dataset(train, train.Views, time_steps)\n",
    "X_test, y_test = transform_dataset(test, test.Views, time_steps)"
   ]
  },
  {
   "cell_type": "code",
   "execution_count": 9,
   "metadata": {},
   "outputs": [
    {
     "name": "stdout",
     "output_type": "stream",
     "text": [
      "WARNING:tensorflow:From /Users/subikshaa/anaconda3/lib/python3.7/site-packages/tensorflow/python/ops/resource_variable_ops.py:435: colocate_with (from tensorflow.python.framework.ops) is deprecated and will be removed in a future version.\n",
      "Instructions for updating:\n",
      "Colocations handled automatically by placer.\n",
      "WARNING:tensorflow:From /Users/subikshaa/anaconda3/lib/python3.7/site-packages/tensorflow/python/keras/utils/losses_utils.py:170: to_float (from tensorflow.python.ops.math_ops) is deprecated and will be removed in a future version.\n",
      "Instructions for updating:\n",
      "Use tf.cast instead.\n"
     ]
    }
   ],
   "source": [
    "# Building the model\n",
    "n_features=1\n",
    "model = keras.Sequential()\n",
    "model.add(keras.layers.Conv1D(filters=64, kernel_size=2, activation='relu', input_shape=(time_steps, n_features)))\n",
    "model.add(keras.layers.MaxPooling1D(pool_size=2))\n",
    "model.add(keras.layers.Flatten())\n",
    "model.add(keras.layers.Dense(50, activation='relu'))\n",
    "model.add(keras.layers.Dense(1))\n",
    "model.compile(optimizer='adam', loss='mse')"
   ]
  },
  {
   "cell_type": "code",
   "execution_count": 10,
   "metadata": {},
   "outputs": [
    {
     "name": "stdout",
     "output_type": "stream",
     "text": [
      "WARNING:tensorflow:From /Users/subikshaa/anaconda3/lib/python3.7/site-packages/tensorflow/python/ops/math_ops.py:3066: to_int32 (from tensorflow.python.ops.math_ops) is deprecated and will be removed in a future version.\n",
      "Instructions for updating:\n",
      "Use tf.cast instead.\n",
      "Epoch 1/20\n",
      "451/451 [==============================] - 0s 541us/sample - loss: 140.0965\n",
      "Epoch 2/20\n",
      "451/451 [==============================] - 0s 53us/sample - loss: 11.3802\n",
      "Epoch 3/20\n",
      "451/451 [==============================] - 0s 42us/sample - loss: 3.9335\n",
      "Epoch 4/20\n",
      "451/451 [==============================] - 0s 39us/sample - loss: 2.9274\n",
      "Epoch 5/20\n",
      "451/451 [==============================] - 0s 45us/sample - loss: 2.4245\n",
      "Epoch 6/20\n",
      "451/451 [==============================] - 0s 40us/sample - loss: 2.3299\n",
      "Epoch 7/20\n",
      "451/451 [==============================] - 0s 42us/sample - loss: 2.2705\n",
      "Epoch 8/20\n",
      "451/451 [==============================] - 0s 41us/sample - loss: 2.2460\n",
      "Epoch 9/20\n",
      "451/451 [==============================] - 0s 42us/sample - loss: 2.2135\n",
      "Epoch 10/20\n",
      "451/451 [==============================] - 0s 43us/sample - loss: 2.1893\n",
      "Epoch 11/20\n",
      "451/451 [==============================] - 0s 39us/sample - loss: 2.1642\n",
      "Epoch 12/20\n",
      "451/451 [==============================] - 0s 40us/sample - loss: 2.1411\n",
      "Epoch 13/20\n",
      "451/451 [==============================] - 0s 38us/sample - loss: 2.1179\n",
      "Epoch 14/20\n",
      "451/451 [==============================] - 0s 39us/sample - loss: 2.0938\n",
      "Epoch 15/20\n",
      "451/451 [==============================] - 0s 41us/sample - loss: 2.0672\n",
      "Epoch 16/20\n",
      "451/451 [==============================] - 0s 38us/sample - loss: 2.0357\n",
      "Epoch 17/20\n",
      "451/451 [==============================] - 0s 40us/sample - loss: 1.9905\n",
      "Epoch 18/20\n",
      "451/451 [==============================] - 0s 41us/sample - loss: 1.9529\n",
      "Epoch 19/20\n",
      "451/451 [==============================] - 0s 39us/sample - loss: 1.9243\n",
      "Epoch 20/20\n",
      "451/451 [==============================] - 0s 40us/sample - loss: 1.8991\n"
     ]
    }
   ],
   "source": [
    "# Training the model\n",
    "history = model.fit(\n",
    "    X_train, y_train,\n",
    "    epochs=20,\n",
    "    verbose=1,\n",
    "    shuffle=False\n",
    ")"
   ]
  },
  {
   "cell_type": "code",
   "execution_count": 11,
   "metadata": {},
   "outputs": [],
   "source": [
    "# Forecasting using test data. Test data is used for forecasting to validate the results and calculate RMSE\n",
    "y_pred = model.predict(X_test)"
   ]
  },
  {
   "cell_type": "code",
   "execution_count": 12,
   "metadata": {},
   "outputs": [
    {
     "data": {
      "image/png": "[encoded data removed]",
      "text/plain": [
       "<Figure size 432x288 with 1 Axes>"
      ]
     },
     "metadata": {},
     "output_type": "display_data"
    }
   ],
   "source": [
    "fig,ax=plt.subplots()\n",
    "pd.DataFrame({'Date':test.index[:y_test.shape[0]],'Views':y_test}).plot('Date',ax=ax)\n",
    "pd.DataFrame({'Date':test.index[:y_pred.shape[0]],'Views':y_pred.flatten()}).plot('Date',ax=ax)\n",
    "plt.legend(['test', 'forecast'], loc='upper left')\n",
    "plt.ylabel('Views (in million)')\n",
    "plt.show()"
   ]
  },
  {
   "cell_type": "code",
   "execution_count": 13,
   "metadata": {},
   "outputs": [
    {
     "name": "stdout",
     "output_type": "stream",
     "text": [
      "RMSE:1.8128367023712277\n"
     ]
    }
   ],
   "source": [
    "print('RMSE:'+str(np.sqrt(np.mean(np.square(y_pred.flatten() - y_test)))))"
   ]
  }
 ],
 "metadata": {
  "kernelspec": {
   "display_name": "Python 3",
   "language": "python",
   "name": "python3"
  },
  "language_info": {
   "codemirror_mode": {
    "name": "ipython",
    "version": 3
   },
   "file_extension": ".py",
   "mimetype": "text/x-python",
   "name": "python",
   "nbconvert_exporter": "python",
   "pygments_lexer": "ipython3",
   "version": "3.7.6"
  }
 },
 "nbformat": 4,
 "nbformat_minor": 2
}
